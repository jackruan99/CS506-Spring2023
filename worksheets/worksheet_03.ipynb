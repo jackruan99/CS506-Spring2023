{
 "cells": [
  {
   "attachments": {},
   "cell_type": "markdown",
   "metadata": {},
   "source": [
    "# Worksheet 03\n",
    "\n",
    "Name: Jack Ruan\n",
    "UID: U46736284\n",
    "\n",
    "### Topics\n",
    "\n",
    "- Intro to DS\n",
    "\n",
    "### Linear Algebra Review\n",
    "\n",
    "If you need a linear algebra review, please read through the [following pdf](https://github.com/gallettilance/CS506-Spring2023/raw/main/worksheets/lecture_03_linear_algebra_review.pdf) before next class\n",
    "\n",
    "### Intro to Data Science\n",
    "\n",
    "a) what property must a hypothesis have?"
   ]
  },
  {
   "cell_type": "markdown",
   "metadata": {},
   "source": [
    "A hypothesis must be testable and falsifiable."
   ]
  },
  {
   "cell_type": "markdown",
   "metadata": {},
   "source": [
    "b) what examples would you have wanted to try?"
   ]
  },
  {
   "cell_type": "markdown",
   "metadata": {},
   "source": [
    "1. (3, 2, 1)\n",
    "2. (-1, 0, 1)"
   ]
  },
  {
   "cell_type": "markdown",
   "metadata": {},
   "source": [
    "c) Poll 1"
   ]
  },
  {
   "cell_type": "markdown",
   "metadata": {},
   "source": [
    "c"
   ]
  },
  {
   "cell_type": "markdown",
   "metadata": {},
   "source": [
    "d) Given the hypothesis (x, 2x, 3x), for each of the following, determine whether they are positive or negative examples:\n",
    "\n",
    "- (2, 4, 6)\n",
    "- (6, 8 , 10)\n",
    "- (1, 3, 5)"
   ]
  },
  {
   "cell_type": "markdown",
   "metadata": {},
   "source": [
    "1. positive\n",
    "2. negative\n",
    "3. negative"
   ]
  },
  {
   "cell_type": "markdown",
   "metadata": {},
   "source": [
    "e) Poll 2"
   ]
  },
  {
   "cell_type": "markdown",
   "metadata": {},
   "source": [
    "c"
   ]
  },
  {
   "attachments": {},
   "cell_type": "markdown",
   "metadata": {},
   "source": [
    "f) Describe steps of a Data Science Workflow"
   ]
  },
  {
   "cell_type": "markdown",
   "metadata": {},
   "source": [
    "1. Process Data\n",
    "2. Explore Data\n",
    "3. Extract Features\n",
    "4. Create Model\n",
    "5. Repeat"
   ]
  },
  {
   "attachments": {},
   "cell_type": "markdown",
   "metadata": {},
   "source": [
    "g) Give a real world example for each of the following data types:\n",
    "\n",
    "- record\n",
    "- graph\n",
    "- image\n",
    "- text"
   ]
  },
  {
   "cell_type": "markdown",
   "metadata": {},
   "source": [
    "1. m-dimensional points/vectors\n",
    "2. nodes connected by edges\n",
    "3. matrix of pixels\n",
    "4. list of words, corpus of documents"
   ]
  },
  {
   "attachments": {},
   "cell_type": "markdown",
   "metadata": {},
   "source": [
    "h) Give a real world example of unsupervised learning"
   ]
  },
  {
   "cell_type": "markdown",
   "metadata": {},
   "source": [
    "predict a person flys first class, business class or economy"
   ]
  },
  {
   "attachments": {},
   "cell_type": "markdown",
   "metadata": {},
   "source": [
    "i) Give a real world example of supervised learning"
   ]
  },
  {
   "cell_type": "markdown",
   "metadata": {},
   "source": [
    "predict cricket chirps per minute to temperature"
   ]
  }
 ],
 "metadata": {
  "kernelspec": {
   "display_name": "Python 3.9.6 64-bit",
   "language": "python",
   "name": "python3"
  },
  "language_info": {
   "codemirror_mode": {
    "name": "ipython",
    "version": 3
   },
   "file_extension": ".py",
   "mimetype": "text/x-python",
   "name": "python",
   "nbconvert_exporter": "python",
   "pygments_lexer": "ipython3",
   "version": "3.9.6"
  },
  "orig_nbformat": 4,
  "vscode": {
   "interpreter": {
    "hash": "31f2aee4e71d21fbe5cf8b01ff0e069b9275f58929596ceb00d14d90e3e16cd6"
   }
  }
 },
 "nbformat": 4,
 "nbformat_minor": 2
}
