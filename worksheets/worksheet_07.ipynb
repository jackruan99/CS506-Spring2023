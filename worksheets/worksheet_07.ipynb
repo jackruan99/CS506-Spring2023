{
 "cells": [
  {
   "cell_type": "markdown",
   "metadata": {},
   "source": [
    "# Worksheet 07\n",
    "\n",
    "Name: Jack Ruan \\\n",
    "UID: U46736284\n",
    "\n",
    "### Topics\n",
    "\n",
    "- Soft Clustering\n",
    "- Clustering Aggregation\n",
    "\n",
    "### Probability Review\n",
    "\n",
    "Read through [the following](https://medium.com/@gallettilance/overview-of-probability-3272b72c82c8)\n",
    "\n",
    "### Soft Clustering\n",
    "\n",
    "We generate 10 data points that come from a normal distribution with mean 5 and variance 1."
   ]
  },
  {
   "cell_type": "code",
   "execution_count": 1,
   "metadata": {},
   "outputs": [
    {
     "name": "stdout",
     "output_type": "stream",
     "text": [
      "[4.829945784759041, 5.722876365965251, 6.636607567584466, 7.601720121290194, 4.23773005096106, 6.084143941232005, 4.836398887470582, 5.478728063485433, 4.888687329111925, 5.150720235874358]\n"
     ]
    }
   ],
   "source": [
    "import random\n",
    "import numpy as np\n",
    "from sklearn.cluster import KMeans\n",
    "\n",
    "mean = 5\n",
    "stdev = 1\n",
    "\n",
    "c1 = np.random.normal(mean, stdev, 10).tolist()\n",
    "print(c1)"
   ]
  },
  {
   "cell_type": "markdown",
   "metadata": {},
   "source": [
    "a) Generate 10 more data points, this time coming from a normal distribution with mean 8 and variance 1."
   ]
  },
  {
   "cell_type": "code",
   "execution_count": 2,
   "metadata": {},
   "outputs": [
    {
     "name": "stdout",
     "output_type": "stream",
     "text": [
      "[10.72947482321143, 7.0751544958782935, 6.322226033426174, 9.579037575124739, 6.5630512233142175, 8.644537772388036, 6.529625747057784, 7.343943200005429, 7.636567652364862, 7.6464738207806855]\n"
     ]
    }
   ],
   "source": [
    "mean = 8\n",
    "stdev = 1\n",
    "\n",
    "c2 = np.random.normal(mean, stdev, 10).tolist()\n",
    "print(c2)"
   ]
  },
  {
   "cell_type": "markdown",
   "metadata": {},
   "source": [
    "b) Flip a fair coin 10 times. If the coin lands on H, then pick the last data point of `c1` and remove it from `c1`, if T then pick the last data point from `c2` and remove it from `c2`. Add these 10 points to a list called `data`."
   ]
  },
  {
   "cell_type": "code",
   "execution_count": 3,
   "metadata": {},
   "outputs": [
    {
     "name": "stdout",
     "output_type": "stream",
     "text": [
      "[7.6464738207806855, 7.636567652364862, 5.150720235874358, 4.888687329111925, 7.343943200005429, 6.529625747057784, 8.644537772388036, 6.5630512233142175, 5.478728063485433, 4.836398887470582]\n"
     ]
    }
   ],
   "source": [
    "data = []\n",
    "for i in range(10):\n",
    "    # flip coin\n",
    "    coin_output = random.choice([0, 1])\n",
    "    if coin_output == 0:\n",
    "        p1 = c1.pop()\n",
    "        data.append(p1)\n",
    "    else:\n",
    "        p2 = c2.pop()\n",
    "        data.append(p2)\n",
    "print(data)"
   ]
  },
  {
   "cell_type": "markdown",
   "metadata": {},
   "source": [
    "c) This `data` is a Gaussian Mixture Distribution with 2 mixture components. Over the next few questions we will walk through the GMM algorithm to see if we can uncover the parameters we used to generate this data. First, please list all these parameters of the GMM that created `data` and the values we know they have."
   ]
  },
  {
   "cell_type": "markdown",
   "metadata": {},
   "source": [
    "The mean for c1 is 5 and std for c1 is 1. The mean for c2 is 8 and std for c2 is 1."
   ]
  },
  {
   "cell_type": "markdown",
   "metadata": {},
   "source": [
    "d) Let's assume there are two mixture components (note: we could plot the data and make the observation that there are two clusters). The EM algorithm asks us to start with a random `mean_j`, `variance_j`, `P(C_j)` for each component j. One method we could use to find sensible values for these is to apply K means with k=2 here.\n",
    "\n",
    "1. the centroids would be the estimates of the `mean_j`\n",
    "2. the intra-cluster variance could be the estimate of `variance_j`\n",
    "3. the proportion of points in each cluster could be the estimate of `P(C_j)`\n",
    "\n",
    "Go through this process and list the parameter estimates it gives. Are they close or far from the true values?"
   ]
  },
  {
   "cell_type": "code",
   "execution_count": 4,
   "metadata": {},
   "outputs": [
    {
     "name": "stdout",
     "output_type": "stream",
     "text": [
      "[5.150720235874358, 4.888687329111925, 5.478728063485433, 4.836398887470582]\n",
      "[7.6464738207806855, 7.636567652364862, 7.343943200005429, 6.529625747057784, 8.644537772388036, 6.5630512233142175]\n",
      "P(C_1) = 0.4,  P(C_2) = 0.6\n",
      "mean_1 = 5.088633628985575,  mean_2 = 7.3940332359851695\n",
      "var_1 = 0.06490732556075626,  var_2 = 0.5210918685909257\n"
     ]
    },
    {
     "name": "stderr",
     "output_type": "stream",
     "text": [
      "/Users/jackruan/Library/Python/3.9/lib/python/site-packages/sklearn/cluster/_kmeans.py:870: FutureWarning: The default value of `n_init` will change from 10 to 'auto' in 1.4. Set the value of `n_init` explicitly to suppress the warning\n",
      "  warnings.warn(\n"
     ]
    }
   ],
   "source": [
    "kmeans = KMeans(2, init='k-means++').fit(X=np.array(data).reshape(-1, 1))\n",
    "\n",
    "c1 = [x[0] for x in filter(lambda x: x[1] == 0, zip(data, kmeans.labels_))]\n",
    "print(c1)\n",
    "c2 = [x[0] for x in filter(lambda x: x[1] == 1, zip(data, kmeans.labels_))]\n",
    "print(c2)\n",
    "\n",
    "prob_c = [len(c1) / (len(c1) + len(c2)), len(c2) / (len(c1) + len(c2))]\n",
    "mean = [sum(c1)/len(c1), sum(c2)/len(c2)]\n",
    "var = [ sum(map(lambda x : (x - mean[0])**2, c1)) / len(c1) , sum(map(lambda x : (x - mean[1])**2, c2)) / len(c2) ]\n",
    "\n",
    "print(\"P(C_1) = \" + str(prob_c[0]) + \",  P(C_2) = \" + str(prob_c[1]))\n",
    "print(\"mean_1 = \" + str(mean[0]) + \",  mean_2 = \" + str(mean[1]))\n",
    "print(\"var_1 = \" + str(var[0]) + \",  var_2 = \" + str(var[1]))"
   ]
  },
  {
   "cell_type": "markdown",
   "metadata": {},
   "source": [
    "They are pretty close to the true values."
   ]
  },
  {
   "cell_type": "markdown",
   "metadata": {},
   "source": [
    "e) For each data point, compute `P(C_j | X_i)`. Comment on which cluster you think each point belongs to based on the estimated probabilities. How does that compare to the truth?"
   ]
  },
  {
   "cell_type": "code",
   "execution_count": 5,
   "metadata": {},
   "outputs": [
    {
     "name": "stdout",
     "output_type": "stream",
     "text": [
      "point =  7.6464738207806855\n",
      "probability of observing that point if it came from cluster 0 =  0.0\n",
      "probability of observing that point if it came from cluster 1 =  0.6808227343253129\n",
      "point =  7.636567652364862\n",
      "probability of observing that point if it came from cluster 0 =  0.0\n",
      "probability of observing that point if it came from cluster 1 =  0.6869975854265099\n",
      "point =  5.150720235874358\n",
      "probability of observing that point if it came from cluster 0 =  3.8898461355839484\n",
      "probability of observing that point if it came from cluster 1 =  7.236951369122111e-05\n",
      "point =  4.888687329111925\n",
      "probability of observing that point if it came from cluster 0 =  0.053458487258598565\n",
      "probability of observing that point if it came from cluster 1 =  7.319613913520883e-06\n",
      "point =  7.343943200005429\n",
      "probability of observing that point if it came from cluster 0 =  4.177337253185622e-262\n",
      "probability of observing that point if it came from cluster 1 =  0.7620602682050583\n",
      "point =  6.529625747057784\n",
      "probability of observing that point if it came from cluster 0 =  5.786535933481943e-107\n",
      "probability of observing that point if it came from cluster 1 =  0.19340227261031467\n",
      "point =  8.644537772388036\n",
      "probability of observing that point if it came from cluster 0 =  0.0\n",
      "probability of observing that point if it came from cluster 1 =  0.04299912070743083\n",
      "point =  6.5630512233142175\n",
      "probability of observing that point if it came from cluster 0 =  5.490848556434437e-112\n",
      "probability of observing that point if it came from cluster 1 =  0.21467416890899577\n",
      "point =  5.478728063485433\n",
      "probability of observing that point if it came from cluster 0 =  8.814134595739028e-08\n",
      "probability of observing that point if it came from cluster 1 =  0.0008920525485127855\n",
      "point =  4.836398887470582\n",
      "probability of observing that point if it came from cluster 0 =  0.0032310969760578675\n",
      "probability of observing that point if it came from cluster 1 =  4.495520534449491e-06\n",
      "7.6464738207806855\n",
      "Probability of coming from C_1 = 0.0\n",
      "Probability of coming from C_2 = 1.0\n",
      "\n",
      "7.636567652364862\n",
      "Probability of coming from C_1 = 0.0\n",
      "Probability of coming from C_2 = 1.0\n",
      "\n",
      "5.150720235874358\n",
      "Probability of coming from C_1 = 0.9999720936928083\n",
      "Probability of coming from C_2 = 2.7906307191689275e-05\n",
      "\n",
      "4.888687329111925\n",
      "Probability of coming from C_1 = 0.9997946599891092\n",
      "Probability of coming from C_2 = 0.00020534001089068634\n",
      "\n",
      "7.343943200005429\n",
      "Probability of coming from C_1 = 3.654424221175087e-262\n",
      "Probability of coming from C_2 = 1.0\n",
      "\n",
      "6.529625747057784\n",
      "Probability of coming from C_1 = 1.9946459626636025e-106\n",
      "Probability of coming from C_2 = 1.0\n",
      "\n",
      "8.644537772388036\n",
      "Probability of coming from C_1 = 0.0\n",
      "Probability of coming from C_2 = 1.0\n",
      "\n",
      "6.5630512233142175\n",
      "Probability of coming from C_1 = 1.705172877991392e-111\n",
      "Probability of coming from C_2 = 1.0\n",
      "\n",
      "5.478728063485433\n",
      "Probability of coming from C_1 = 6.586722607942563e-05\n",
      "Probability of coming from C_2 = 0.9999341327739205\n",
      "\n",
      "4.836398887470582\n",
      "Probability of coming from C_1 = 0.997917352226569\n",
      "Probability of coming from C_2 = 0.0020826477734311407\n",
      "\n"
     ]
    }
   ],
   "source": [
    "from scipy.stats import norm\n",
    "\n",
    "prob_c0_x = [] # P(C_0 | X_i)\n",
    "prob_c1_x = [] # P(C_1 | X_i)\n",
    "prob_x = [] # P(X_i)\n",
    "\n",
    "k = 2\n",
    "\n",
    "for p in data:\n",
    "    print(\"point = \", p)\n",
    "    pdf_i = []\n",
    "\n",
    "    for j in range(k):\n",
    "        # P(X_i | C_j)\n",
    "        pdf_i.append(norm.pdf(p, mean[j], var[j]))\n",
    "        print(\"probability of observing that point if it came from cluster \" + str(j) + \" = \", pdf_i[j])\n",
    "        # P(C_j) already computed\n",
    "        prob_c[j]\n",
    "\n",
    "    # P(X_i) = P(C_0)P(X_i | C_0) + P(C_1)P(X_i | C_1)\n",
    "    prob_x = prob_c[0] * pdf_i[0] + prob_c[1] * pdf_i[1]\n",
    "\n",
    "    # P(C_j | X_i) = P(X_i | C_j)P(C_j) / P(X_i)\n",
    "    prob_c0_x.append(pdf_i[0] * prob_c[0] / prob_x)\n",
    "    prob_c1_x.append(pdf_i[1] * prob_c[1] / prob_x)\n",
    "\n",
    "probs = zip(data, prob_c0_x, prob_c1_x)\n",
    "for p in probs:\n",
    "    print(p[0])\n",
    "    print(\"Probability of coming from C_1 = \" + str(p[1]))\n",
    "    print(\"Probability of coming from C_2 = \" + str(p[2]))\n",
    "    print()\n"
   ]
  },
  {
   "cell_type": "markdown",
   "metadata": {},
   "source": [
    "f) Having computed `P(C_j | X_i)`, update the estimates of `mean_j`, `var_j`, and `P(C_j)`. How different are these values from the original ones you got from K means? briefly comment."
   ]
  },
  {
   "cell_type": "code",
   "execution_count": 6,
   "metadata": {},
   "outputs": [
    {
     "name": "stdout",
     "output_type": "stream",
     "text": [
      "P(C_1) = 0.2997749973134566,  P(C_2) = 0.7002250026865433\n",
      "mean_1 = 4.95870147885232,  mean_2 = 7.11968103332045\n",
      "var_1 = 0.01891943400863944,  var_2 = 0.8972406187373981\n"
     ]
    }
   ],
   "source": [
    "prob_c = [sum(prob_c0_x) / len(prob_c0_x), sum(prob_c1_x) / len(prob_c1_x)]\n",
    "mean = [sum([x[0] * x[1] for x in zip(prob_c0_x, data)]) / sum(prob_c0_x), sum([x[0] * x[1] for x in zip(prob_c1_x, data)]) / sum(prob_c1_x)]\n",
    "var = [sum([prob_c0_x[i] * (data[i] - mean[0])**2 for i in range(len(data))]) / sum(prob_c0_x), sum([prob_c1_x[i] * (data[i] - mean[1])**2 for i in range(len(data))]) / sum(prob_c1_x)]\n",
    "\n",
    "print(\"P(C_1) = \" + str(prob_c[0]) + \",  P(C_2) = \" + str(prob_c[1]))\n",
    "print(\"mean_1 = \" + str(mean[0]) + \",  mean_2 = \" + str(mean[1]))\n",
    "print(\"var_1 = \" + str(var[0]) + \",  var_2 = \" + str(var[1]))"
   ]
  },
  {
   "cell_type": "markdown",
   "metadata": {},
   "source": [
    "These values aren't that different. The variances are marginally closer to what they should be."
   ]
  },
  {
   "cell_type": "markdown",
   "metadata": {},
   "source": [
    "g) Update `P(C_j | X_i)`. Comment on any differences or lack thereof you observe."
   ]
  },
  {
   "cell_type": "code",
   "execution_count": 7,
   "metadata": {},
   "outputs": [
    {
     "name": "stdout",
     "output_type": "stream",
     "text": [
      "7.6464738207806855\n",
      "Probability of coming from C_1 = 0.0\n",
      "Probability of coming from C_2 = 1.0\n",
      "\n",
      "7.636567652364862\n",
      "Probability of coming from C_1 = 0.0\n",
      "Probability of coming from C_2 = 1.0\n",
      "\n",
      "5.150720235874358\n",
      "Probability of coming from C_1 = 9.668524999733895e-21\n",
      "Probability of coming from C_2 = 1.0\n",
      "\n",
      "4.888687329111925\n",
      "Probability of coming from C_1 = 0.32185170590729784\n",
      "Probability of coming from C_2 = 0.6781482940927022\n",
      "\n",
      "7.343943200005429\n",
      "Probability of coming from C_1 = 0.0\n",
      "Probability of coming from C_2 = 1.0\n",
      "\n",
      "6.529625747057784\n",
      "Probability of coming from C_1 = 0.0\n",
      "Probability of coming from C_2 = 1.0\n",
      "\n",
      "8.644537772388036\n",
      "Probability of coming from C_1 = 0.0\n",
      "Probability of coming from C_2 = 1.0\n",
      "\n",
      "6.5630512233142175\n",
      "Probability of coming from C_1 = 0.0\n",
      "Probability of coming from C_2 = 1.0\n",
      "\n",
      "5.478728063485433\n",
      "Probability of coming from C_1 = 9.528169842909507e-163\n",
      "Probability of coming from C_2 = 1.0\n",
      "\n",
      "4.836398887470582\n",
      "Probability of coming from C_1 = 4.3607880397740537e-07\n",
      "Probability of coming from C_2 = 0.999999563921196\n",
      "\n"
     ]
    }
   ],
   "source": [
    "prob_c0_x = []\n",
    "prob_c1_x = []\n",
    "\n",
    "for p in data:\n",
    "    pdf_i = [norm.pdf(p, mean[j], var[j]) for j in range(k)]\n",
    "    prob_x = prob_c[0] * pdf_i[0] + prob_c[1] * pdf_i[1]\n",
    "\n",
    "    prob_c0_x.append(pdf_i[0] * prob_c[0] / prob_x)\n",
    "    prob_c1_x.append(pdf_i[1] * prob_c[1] / prob_x)\n",
    "\n",
    "probs = zip(data, prob_c0_x, prob_c1_x)\n",
    "for p in probs:\n",
    "    print(p[0])\n",
    "    print(\"Probability of coming from C_1 = \" + str(p[1]))\n",
    "    print(\"Probability of coming from C_2 = \" + str(p[2]))\n",
    "    print()"
   ]
  },
  {
   "cell_type": "markdown",
   "metadata": {},
   "source": [
    "There seem to be a lot more definitive decisions being made (probability of 1) which wasn't really happening with the kmeans implementation."
   ]
  },
  {
   "cell_type": "markdown",
   "metadata": {},
   "source": [
    "h) Use `P(C_j | X_i)` to create a hard assignment - label each point as belonging to a specific cluster (0 or 1)"
   ]
  },
  {
   "cell_type": "code",
   "execution_count": 8,
   "metadata": {},
   "outputs": [
    {
     "name": "stdout",
     "output_type": "stream",
     "text": [
      "[1, 1, 1, 1, 1, 1, 1, 1, 1, 1]\n"
     ]
    }
   ],
   "source": [
    "labels = []\n",
    "\n",
    "for i in range(len(data)):\n",
    "    if prob_c0_x[i] > prob_c1_x[i]:\n",
    "        labels.append(0)\n",
    "    else:\n",
    "        labels.append(1)\n",
    "\n",
    "print(labels)"
   ]
  },
  {
   "cell_type": "markdown",
   "metadata": {},
   "source": [
    "### Clustering Aggregation\n",
    "\n",
    "| Point | C | P |\n",
    "|-------|---|---|\n",
    "| A     | 0 | a |\n",
    "| B     | 0 | b |\n",
    "| C     | 2 | b |\n",
    "| D     | 1 | c |\n",
    "| E     | 1 | d |\n",
    "\n",
    "a) Fill in the following table where for each pair of points determine whether C and P agree or disagree on how to cluster that pair."
   ]
  },
  {
   "cell_type": "markdown",
   "metadata": {},
   "source": [
    "| Pair | Disagreement |\n",
    "|------|--------------|\n",
    "| A  B |      ?       |\n",
    "| A  C |      ?       |\n",
    "| A  D |      ?       |\n",
    "| A  E |      ?       |\n",
    "| B  C |      ?       |\n",
    "| B  D |      ?       |\n",
    "| B  E |      ?       |\n",
    "| C  D |      ?       |\n",
    "| C  E |      ?       |\n",
    "| D  E |      ?       |\n"
   ]
  },
  {
   "cell_type": "markdown",
   "metadata": {},
   "source": [
    "As datasets become very large, this process can become computationally challenging.\n",
    "\n",
    "b) Given N points, what is the formula for the number of unique pairs of points one can create?"
   ]
  },
  {
   "cell_type": "markdown",
   "metadata": {},
   "source": []
  },
  {
   "cell_type": "markdown",
   "metadata": {},
   "source": [
    "Assume that clustering C clusters all points in the same cluster and clustering P clusters points as such:\n",
    "\n",
    "| Point | P |\n",
    "|-------|---|\n",
    "| A     | 0 |\n",
    "| B     | 0 |\n",
    "| C     | 0 |\n",
    "| D     | 1 |\n",
    "| E     | 1 |\n",
    "| F     | 2 |\n",
    "| G     | 2 |\n",
    "| H     | 2 |\n",
    "| I     | 2 |\n",
    "\n",
    "c) What is the maximum number of disagreements there could be for a dataset of this size? (use the formula from b)?"
   ]
  },
  {
   "cell_type": "markdown",
   "metadata": {},
   "source": []
  },
  {
   "cell_type": "markdown",
   "metadata": {},
   "source": [
    "d) If we look at cluster 0. There are (3 x 2) / 2 = 3 pairs that agree with C (since all points in C are in the same cluster). For each cluster, determine how many agreements there are. How many total agreements are there? How many disagreements does that mean there are between C and P?"
   ]
  },
  {
   "cell_type": "markdown",
   "metadata": {},
   "source": []
  },
  {
   "cell_type": "markdown",
   "metadata": {},
   "source": [
    "e) Assuming that filtering the dataset by cluster number is a computationally easy operation, describe an algorithm inspired by the above process that can efficiently compute disagreement distances on large datasets."
   ]
  },
  {
   "cell_type": "markdown",
   "metadata": {},
   "source": []
  }
 ],
 "metadata": {
  "kernelspec": {
   "display_name": "Python 3.9.6 64-bit",
   "language": "python",
   "name": "python3"
  },
  "language_info": {
   "codemirror_mode": {
    "name": "ipython",
    "version": 3
   },
   "file_extension": ".py",
   "mimetype": "text/x-python",
   "name": "python",
   "nbconvert_exporter": "python",
   "pygments_lexer": "ipython3",
   "version": "3.9.6"
  },
  "orig_nbformat": 4,
  "vscode": {
   "interpreter": {
    "hash": "31f2aee4e71d21fbe5cf8b01ff0e069b9275f58929596ceb00d14d90e3e16cd6"
   }
  }
 },
 "nbformat": 4,
 "nbformat_minor": 2
}
