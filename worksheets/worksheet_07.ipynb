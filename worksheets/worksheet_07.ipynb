{
 "cells": [
  {
   "cell_type": "markdown",
   "metadata": {},
   "source": [
    "# Worksheet 07\n",
    "\n",
    "Name: Jack Ruan \\\n",
    "UID: U46736284\n",
    "\n",
    "### Topics\n",
    "\n",
    "- Soft Clustering\n",
    "- Clustering Aggregation\n",
    "\n",
    "### Probability Review\n",
    "\n",
    "Read through [the following](https://medium.com/@gallettilance/overview-of-probability-3272b72c82c8)\n",
    "\n",
    "### Soft Clustering\n",
    "\n",
    "We generate 10 data points that come from a normal distribution with mean 5 and variance 1."
   ]
  },
  {
   "cell_type": "code",
   "execution_count": 9,
   "metadata": {},
   "outputs": [
    {
     "name": "stdout",
     "output_type": "stream",
     "text": [
      "[5.713577130336239, 4.46688240411532, 5.443907052312175, 3.657457615745148, 5.272851142421775, 5.262119619736766, 4.704556084779029, 5.2494435196446645, 3.3994387479800463, 5.1465887076106505]\n"
     ]
    }
   ],
   "source": [
    "import random\n",
    "import numpy as np\n",
    "from sklearn.cluster import KMeans\n",
    "\n",
    "mean = 5\n",
    "stdev = 1\n",
    "\n",
    "c1 = np.random.normal(mean, stdev, 10).tolist()\n",
    "print(c1)"
   ]
  },
  {
   "cell_type": "markdown",
   "metadata": {},
   "source": [
    "a) Generate 10 more data points, this time coming from a normal distribution with mean 8 and variance 1."
   ]
  },
  {
   "cell_type": "code",
   "execution_count": 10,
   "metadata": {},
   "outputs": [
    {
     "name": "stdout",
     "output_type": "stream",
     "text": [
      "[8.759404997121012, 6.811189945345712, 8.833521940570712, 7.675094405805697, 8.450751069977734, 7.768127111567409, 7.543580666983614, 9.048501033084309, 6.6290631377939855, 7.290654324837128]\n"
     ]
    }
   ],
   "source": [
    "mean = 8\n",
    "stdev = 1\n",
    "\n",
    "c2 = np.random.normal(mean, stdev, 10).tolist()\n",
    "print(c2)"
   ]
  },
  {
   "cell_type": "markdown",
   "metadata": {},
   "source": [
    "b) Flip a fair coin 10 times. If the coin lands on H, then pick the last data point of `c1` and remove it from `c1`, if T then pick the last data point from `c2` and remove it from `c2`. Add these 10 points to a list called `data`."
   ]
  },
  {
   "cell_type": "code",
   "execution_count": 11,
   "metadata": {},
   "outputs": [
    {
     "name": "stdout",
     "output_type": "stream",
     "text": [
      "[5.1465887076106505, 3.3994387479800463, 7.290654324837128, 5.2494435196446645, 6.6290631377939855, 9.048501033084309, 7.543580666983614, 7.768127111567409, 4.704556084779029, 8.450751069977734]\n"
     ]
    }
   ],
   "source": [
    "data = []\n",
    "for i in range(10):\n",
    "    # flip coin\n",
    "    coin_output = random.choice([0, 1])\n",
    "    if coin_output == 0:\n",
    "        p1 = c1.pop()\n",
    "        data.append(p1)\n",
    "    else:\n",
    "        p2 = c2.pop()\n",
    "        data.append(p2)\n",
    "print(data)"
   ]
  },
  {
   "cell_type": "markdown",
   "metadata": {},
   "source": [
    "c) This `data` is a Gaussian Mixture Distribution with 2 mixture components. Over the next few questions we will walk through the GMM algorithm to see if we can uncover the parameters we used to generate this data. First, please list all these parameters of the GMM that created `data` and the values we know they have."
   ]
  },
  {
   "cell_type": "markdown",
   "metadata": {},
   "source": [
    "The mean for c1 is 5 and std for c1 is 1. The mean for c2 is 8 and std for c2 is 1."
   ]
  },
  {
   "cell_type": "markdown",
   "metadata": {},
   "source": [
    "d) Let's assume there are two mixture components (note: we could plot the data and make the observation that there are two clusters). The EM algorithm asks us to start with a random `mean_j`, `variance_j`, `P(C_j)` for each component j. One method we could use to find sensible values for these is to apply K means with k=2 here.\n",
    "\n",
    "1. the centroids would be the estimates of the `mean_j`\n",
    "2. the intra-cluster variance could be the estimate of `variance_j`\n",
    "3. the proportion of points in each cluster could be the estimate of `P(C_j)`\n",
    "\n",
    "Go through this process and list the parameter estimates it gives. Are they close or far from the true values?"
   ]
  },
  {
   "cell_type": "code",
   "execution_count": 12,
   "metadata": {},
   "outputs": [
    {
     "name": "stdout",
     "output_type": "stream",
     "text": [
      "[7.290654324837128, 6.6290631377939855, 9.048501033084309, 7.543580666983614, 7.768127111567409, 8.450751069977734]\n",
      "[5.1465887076106505, 3.3994387479800463, 5.2494435196446645, 4.704556084779029]\n",
      "P(C_1) = 0.6,  P(C_2) = 0.4\n",
      "mean_1 = 7.788446224040697,  mean_2 = 4.625006765003597\n",
      "var_1 = 0.6131206256163065,  var_2 = 0.5425785105070471\n"
     ]
    },
    {
     "name": "stderr",
     "output_type": "stream",
     "text": [
      "/Users/jackruan/Library/Python/3.9/lib/python/site-packages/sklearn/cluster/_kmeans.py:870: FutureWarning: The default value of `n_init` will change from 10 to 'auto' in 1.4. Set the value of `n_init` explicitly to suppress the warning\n",
      "  warnings.warn(\n"
     ]
    }
   ],
   "source": [
    "kmeans = KMeans(2, init='k-means++').fit(X=np.array(data).reshape(-1, 1))\n",
    "\n",
    "c1 = [x[0] for x in filter(lambda x: x[1] == 0, zip(data, kmeans.labels_))]\n",
    "print(c1)\n",
    "c2 = [x[0] for x in filter(lambda x: x[1] == 1, zip(data, kmeans.labels_))]\n",
    "print(c2)\n",
    "\n",
    "prob_c = [len(c1) / (len(c1) + len(c2)), len(c2) / (len(c1) + len(c2))]\n",
    "mean = [sum(c1)/len(c1), sum(c2)/len(c2)]\n",
    "var = [ sum(map(lambda x : (x - mean[0])**2, c1)) / len(c1) , sum(map(lambda x : (x - mean[1])**2, c2)) / len(c2) ]\n",
    "\n",
    "print(\"P(C_1) = \" + str(prob_c[0]) + \",  P(C_2) = \" + str(prob_c[1]))\n",
    "print(\"mean_1 = \" + str(mean[0]) + \",  mean_2 = \" + str(mean[1]))\n",
    "print(\"var_1 = \" + str(var[0]) + \",  var_2 = \" + str(var[1]))"
   ]
  },
  {
   "cell_type": "markdown",
   "metadata": {},
   "source": [
    "They are pretty close to the true values."
   ]
  },
  {
   "cell_type": "markdown",
   "metadata": {},
   "source": [
    "e) For each data point, compute `P(C_j | X_i)`. Comment on which cluster you think each point belongs to based on the estimated probabilities. How does that compare to the truth?"
   ]
  },
  {
   "cell_type": "code",
   "execution_count": 13,
   "metadata": {},
   "outputs": [
    {
     "name": "stdout",
     "output_type": "stream",
     "text": [
      "point =  5.1465887076106505\n",
      "probability of observing that point if it came from cluster 0 =  6.049629556666012e-05\n",
      "probability of observing that point if it came from cluster 1 =  0.46321357029690957\n",
      "point =  3.3994387479800463\n",
      "probability of observing that point if it came from cluster 0 =  4.852082277283081e-12\n",
      "probability of observing that point if it came from cluster 1 =  0.057350706189465896\n",
      "point =  7.290654324837128\n",
      "probability of observing that point if it came from cluster 0 =  0.4679776318699961\n",
      "probability of observing that point if it came from cluster 1 =  4.2189159010006306e-06\n",
      "point =  5.2494435196446645\n",
      "probability of observing that point if it came from cluster 0 =  0.00012289754183136592\n",
      "probability of observing that point if it came from cluster 1 =  0.37917186530557256\n",
      "point =  6.6290631377939855\n",
      "probability of observing that point if it came from cluster 0 =  0.10887018813895902\n",
      "probability of observing that point if it came from cluster 1 =  0.0008016988899109971\n",
      "point =  9.048501033084309\n",
      "probability of observing that point if it came from cluster 0 =  0.07874302619974358\n",
      "probability of observing that point if it came from cluster 1 =  2.7122665351878846e-15\n",
      "point =  7.543580666983614\n",
      "probability of observing that point if it came from cluster 0 =  0.6007986198991289\n",
      "probability of observing that point if it came from cluster 1 =  3.831751315223963e-07\n",
      "point =  7.768127111567409\n",
      "probability of observing that point if it came from cluster 0 =  0.6503178109328014\n",
      "probability of observing that point if it came from cluster 1 =  3.796709833141168e-08\n",
      "point =  4.704556084779029\n",
      "probability of observing that point if it came from cluster 0 =  2.087965599023273e-06\n",
      "probability of observing that point if it came from cluster 1 =  0.7274108690437286\n",
      "point =  8.450751069977734\n",
      "probability of observing that point if it came from cluster 0 =  0.3630618705567382\n",
      "probability of observing that point if it came from cluster 1 =  1.1762337831014244e-11\n",
      "5.1465887076106505\n",
      "Probability of coming from C_1 = 0.0001958635835301121\n",
      "Probability of coming from C_2 = 0.9998041364164699\n",
      "\n",
      "3.3994387479800463\n",
      "Probability of coming from C_1 = 1.2690555877301164e-10\n",
      "Probability of coming from C_2 = 0.9999999998730945\n",
      "\n",
      "7.290654324837128\n",
      "Probability of coming from C_1 = 0.9999939898971554\n",
      "Probability of coming from C_2 = 6.01010284476471e-06\n",
      "\n",
      "5.2494435196446645\n",
      "Probability of coming from C_1 = 0.0004859451541880237\n",
      "Probability of coming from C_2 = 0.999514054845812\n",
      "\n",
      "6.6290631377939855\n",
      "Probability of coming from C_1 = 0.995114778880549\n",
      "Probability of coming from C_2 = 0.004885221119450963\n",
      "\n",
      "9.048501033084309\n",
      "Probability of coming from C_1 = 0.9999999999999771\n",
      "Probability of coming from C_2 = 2.2963020058925593e-14\n",
      "\n",
      "7.543580666983614\n",
      "Probability of coming from C_1 = 0.999999574815969\n",
      "Probability of coming from C_2 = 4.2518403106716247e-07\n",
      "\n",
      "7.768127111567409\n",
      "Probability of coming from C_1 = 0.9999999610784182\n",
      "Probability of coming from C_2 = 3.892158184340976e-08\n",
      "\n",
      "4.704556084779029\n",
      "Probability of coming from C_1 = 4.305592680733686e-06\n",
      "Probability of coming from C_2 = 0.9999956944073193\n",
      "\n",
      "8.450751069977734\n",
      "Probability of coming from C_1 = 0.9999999999784016\n",
      "Probability of coming from C_2 = 2.1598408397487385e-11\n",
      "\n"
     ]
    }
   ],
   "source": [
    "from scipy.stats import norm\n",
    "\n",
    "prob_c0_x = [] # P(C_0 | X_i)\n",
    "prob_c1_x = [] # P(C_1 | X_i)\n",
    "prob_x = [] # P(X_i)\n",
    "\n",
    "k = 2\n",
    "\n",
    "for p in data:\n",
    "    print(\"point = \", p)\n",
    "    pdf_i = []\n",
    "\n",
    "    for j in range(k):\n",
    "        # P(X_i | C_j)\n",
    "        pdf_i.append(norm.pdf(p, mean[j], var[j]))\n",
    "        print(\"probability of observing that point if it came from cluster \" + str(j) + \" = \", pdf_i[j])\n",
    "        # P(C_j) already computed\n",
    "        prob_c[j]\n",
    "\n",
    "    # P(X_i) = P(C_0)P(X_i | C_0) + P(C_1)P(X_i | C_1)\n",
    "    prob_x = prob_c[0] * pdf_i[0] + prob_c[1] * pdf_i[1]\n",
    "\n",
    "    # P(C_j | X_i) = P(X_i | C_j)P(C_j) / P(X_i)\n",
    "    prob_c0_x.append(pdf_i[0] * prob_c[0] / prob_x)\n",
    "    prob_c1_x.append(pdf_i[1] * prob_c[1] / prob_x)\n",
    "\n",
    "probs = zip(data, prob_c0_x, prob_c1_x)\n",
    "for p in probs:\n",
    "    print(p[0])\n",
    "    print(\"Probability of coming from C_1 = \" + str(p[1]))\n",
    "    print(\"Probability of coming from C_2 = \" + str(p[2]))\n",
    "    print()\n"
   ]
  },
  {
   "cell_type": "markdown",
   "metadata": {},
   "source": [
    "f) Having computed `P(C_j | X_i)`, update the estimates of `mean_j`, `var_j`, and `P(C_j)`. How different are these values from the original ones you got from K means? briefly comment."
   ]
  },
  {
   "cell_type": "code",
   "execution_count": 14,
   "metadata": {},
   "outputs": [
    {
     "name": "stdout",
     "output_type": "stream",
     "text": [
      "P(C_1) = 0.5995794419107774,  P(C_2) = 0.40042055808922267\n",
      "mean_1 = 7.789097080434833,  mean_2 = 4.627354721225401\n",
      "var_1 = 0.6132121122851942,  var_2 = 0.5468540696496336\n"
     ]
    }
   ],
   "source": [
    "prob_c = [sum(prob_c0_x) / len(prob_c0_x), sum(prob_c1_x) / len(prob_c1_x)]\n",
    "mean = [sum([x[0] * x[1] for x in zip(prob_c0_x, data)]) / sum(prob_c0_x), sum([x[0] * x[1] for x in zip(prob_c1_x, data)]) / sum(prob_c1_x)]\n",
    "var = [sum([prob_c0_x[i] * (data[i] - mean[0])**2 for i in range(len(data))]) / sum(prob_c0_x), sum([prob_c1_x[i] * (data[i] - mean[1])**2 for i in range(len(data))]) / sum(prob_c1_x)]\n",
    "\n",
    "print(\"P(C_1) = \" + str(prob_c[0]) + \",  P(C_2) = \" + str(prob_c[1]))\n",
    "print(\"mean_1 = \" + str(mean[0]) + \",  mean_2 = \" + str(mean[1]))\n",
    "print(\"var_1 = \" + str(var[0]) + \",  var_2 = \" + str(var[1]))"
   ]
  },
  {
   "cell_type": "markdown",
   "metadata": {},
   "source": [
    "These values aren't that different. The variances are marginally closer to what they should be."
   ]
  },
  {
   "cell_type": "markdown",
   "metadata": {},
   "source": [
    "g) Update `P(C_j | X_i)`. Comment on any differences or lack thereof you observe."
   ]
  },
  {
   "cell_type": "code",
   "execution_count": 15,
   "metadata": {},
   "outputs": [
    {
     "name": "stdout",
     "output_type": "stream",
     "text": [
      "5.1465887076106505\n",
      "Probability of coming from C_1 = 0.00019447070171676797\n",
      "Probability of coming from C_2 = 0.9998055292982833\n",
      "\n",
      "3.3994387479800463\n",
      "Probability of coming from C_1 = 1.2388272320863433e-10\n",
      "Probability of coming from C_2 = 0.9999999998761172\n",
      "\n",
      "7.290654324837128\n",
      "Probability of coming from C_1 = 0.9999926319619137\n",
      "Probability of coming from C_2 = 7.368038086369737e-06\n",
      "\n",
      "5.2494435196446645\n",
      "Probability of coming from C_1 = 0.00048058474848533235\n",
      "Probability of coming from C_2 = 0.9995194152515147\n",
      "\n",
      "6.6290631377939855\n",
      "Probability of coming from C_1 = 0.9945090373114106\n",
      "Probability of coming from C_2 = 0.005490962688589254\n",
      "\n",
      "9.048501033084309\n",
      "Probability of coming from C_1 = 0.9999999999999605\n",
      "Probability of coming from C_2 = 3.9546848886001924e-14\n",
      "\n",
      "7.543580666983614\n",
      "Probability of coming from C_1 = 0.9999994580252579\n",
      "Probability of coming from C_2 = 5.419747421578221e-07\n",
      "\n",
      "7.768127111567409\n",
      "Probability of coming from C_1 = 0.9999999484963854\n",
      "Probability of coming from C_2 = 5.1503614587028566e-08\n",
      "\n",
      "4.704556084779029\n",
      "Probability of coming from C_1 = 4.3211250065007975e-06\n",
      "Probability of coming from C_2 = 0.9999956788749935\n",
      "\n",
      "8.450751069977734\n",
      "Probability of coming from C_1 = 0.9999999999674567\n",
      "Probability of coming from C_2 = 3.254333714679781e-11\n",
      "\n"
     ]
    }
   ],
   "source": [
    "prob_c0_x = []\n",
    "prob_c1_x = []\n",
    "\n",
    "for p in data:\n",
    "    pdf_i = [norm.pdf(p, mean[j], var[j]) for j in range(k)]\n",
    "    prob_x = prob_c[0] * pdf_i[0] + prob_c[1] * pdf_i[1]\n",
    "\n",
    "    prob_c0_x.append(pdf_i[0] * prob_c[0] / prob_x)\n",
    "    prob_c1_x.append(pdf_i[1] * prob_c[1] / prob_x)\n",
    "\n",
    "probs = zip(data, prob_c0_x, prob_c1_x)\n",
    "for p in probs:\n",
    "    print(p[0])\n",
    "    print(\"Probability of coming from C_1 = \" + str(p[1]))\n",
    "    print(\"Probability of coming from C_2 = \" + str(p[2]))\n",
    "    print()"
   ]
  },
  {
   "cell_type": "markdown",
   "metadata": {},
   "source": [
    "There seem to be a lot more definitive decisions being made (probability of 1) which wasn't really happening with the kmeans implementation."
   ]
  },
  {
   "cell_type": "markdown",
   "metadata": {},
   "source": [
    "h) Use `P(C_j | X_i)` to create a hard assignment - label each point as belonging to a specific cluster (0 or 1)"
   ]
  },
  {
   "cell_type": "code",
   "execution_count": 16,
   "metadata": {},
   "outputs": [
    {
     "name": "stdout",
     "output_type": "stream",
     "text": [
      "[1, 1, 0, 1, 0, 0, 0, 0, 1, 0]\n"
     ]
    }
   ],
   "source": [
    "labels = []\n",
    "\n",
    "for i in range(len(data)):\n",
    "    if prob_c0_x[i] > prob_c1_x[i]:\n",
    "        labels.append(0)\n",
    "    else:\n",
    "        labels.append(1)\n",
    "\n",
    "print(labels)"
   ]
  },
  {
   "cell_type": "markdown",
   "metadata": {},
   "source": [
    "### Clustering Aggregation\n",
    "\n",
    "| Point | C | P |\n",
    "|-------|---|---|\n",
    "| A     | 0 | a |\n",
    "| B     | 0 | b |\n",
    "| C     | 2 | b |\n",
    "| D     | 1 | c |\n",
    "| E     | 1 | d |\n",
    "\n",
    "a) Fill in the following table where for each pair of points determine whether C and P agree or disagree on how to cluster that pair."
   ]
  },
  {
   "cell_type": "markdown",
   "metadata": {},
   "source": [
    "| Pair | Disagreement |\n",
    "|------|--------------|\n",
    "| A  B |      ?       |\n",
    "| A  C |      ?       |\n",
    "| A  D |      ?       |\n",
    "| A  E |      ?       |\n",
    "| B  C |      ?       |\n",
    "| B  D |      ?       |\n",
    "| B  E |      ?       |\n",
    "| C  D |      ?       |\n",
    "| C  E |      ?       |\n",
    "| D  E |      ?       |\n"
   ]
  },
  {
   "cell_type": "markdown",
   "metadata": {},
   "source": [
    "As datasets become very large, this process can become computationally challenging.\n",
    "\n",
    "b) Given N points, what is the formula for the number of unique pairs of points one can create?"
   ]
  },
  {
   "cell_type": "markdown",
   "metadata": {},
   "source": []
  },
  {
   "cell_type": "markdown",
   "metadata": {},
   "source": [
    "Assume that clustering C clusters all points in the same cluster and clustering P clusters points as such:\n",
    "\n",
    "| Point | P |\n",
    "|-------|---|\n",
    "| A     | 0 |\n",
    "| B     | 0 |\n",
    "| C     | 0 |\n",
    "| D     | 1 |\n",
    "| E     | 1 |\n",
    "| F     | 2 |\n",
    "| G     | 2 |\n",
    "| H     | 2 |\n",
    "| I     | 2 |\n",
    "\n",
    "c) What is the maximum number of disagreements there could be for a dataset of this size? (use the formula from b)?"
   ]
  },
  {
   "cell_type": "markdown",
   "metadata": {},
   "source": []
  },
  {
   "cell_type": "markdown",
   "metadata": {},
   "source": [
    "d) If we look at cluster 0. There are (3 x 2) / 2 = 3 pairs that agree with C (since all points in C are in the same cluster). For each cluster, determine how many agreements there are. How many total agreements are there? How many disagreements does that mean there are between C and P?"
   ]
  },
  {
   "cell_type": "markdown",
   "metadata": {},
   "source": []
  },
  {
   "cell_type": "markdown",
   "metadata": {},
   "source": [
    "e) Assuming that filtering the dataset by cluster number is a computationally easy operation, describe an algorithm inspired by the above process that can efficiently compute disagreement distances on large datasets."
   ]
  },
  {
   "cell_type": "markdown",
   "metadata": {},
   "source": []
  }
 ],
 "metadata": {
  "kernelspec": {
   "display_name": "Python 3.9.6 64-bit",
   "language": "python",
   "name": "python3"
  },
  "language_info": {
   "codemirror_mode": {
    "name": "ipython",
    "version": 3
   },
   "file_extension": ".py",
   "mimetype": "text/x-python",
   "name": "python",
   "nbconvert_exporter": "python",
   "pygments_lexer": "ipython3",
   "version": "3.9.6"
  },
  "orig_nbformat": 4,
  "vscode": {
   "interpreter": {
    "hash": "31f2aee4e71d21fbe5cf8b01ff0e069b9275f58929596ceb00d14d90e3e16cd6"
   }
  }
 },
 "nbformat": 4,
 "nbformat_minor": 2
}
